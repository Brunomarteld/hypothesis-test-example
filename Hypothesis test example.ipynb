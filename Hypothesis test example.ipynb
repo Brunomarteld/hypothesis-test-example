{
 "cells": [
  {
   "cell_type": "markdown",
   "metadata": {},
   "source": [
    "# Hypothesis test example\n",
    "\n",
    "We believe that the proportion of publications wronlgy categorized is different that 20%\n",
    "\n",
    "*   **Population**: Items published under Cellphone´s Category\n",
    "*   **Parameter of interest**: p\n",
    "\n",
    "Null Hypothesis: \n",
    ">$H_{0}: p=0.2$\n",
    "\n",
    "Alternative Hypothesis:\n",
    ">$H_{a}: p\\neq0.2$\n",
    "\n",
    "Where $p$ is the population proportion of items wrongly categorized.\n",
    "\n",
    "Significance Level: \n",
    ">$\\alpha = 0.05$\n"
   ]
  },
  {
   "cell_type": "code",
   "execution_count": 37,
   "metadata": {},
   "outputs": [],
   "source": [
    "p_null = 0.2\n",
    "alpha = 0.05 "
   ]
  },
  {
   "cell_type": "markdown",
   "metadata": {},
   "source": [
    "## Load the dataset"
   ]
  },
  {
   "cell_type": "code",
   "execution_count": 56,
   "metadata": {},
   "outputs": [
    {
     "data": {
      "text/html": [
       "<div>\n",
       "<style scoped>\n",
       "    .dataframe tbody tr th:only-of-type {\n",
       "        vertical-align: middle;\n",
       "    }\n",
       "\n",
       "    .dataframe tbody tr th {\n",
       "        vertical-align: top;\n",
       "    }\n",
       "\n",
       "    .dataframe thead th {\n",
       "        text-align: right;\n",
       "    }\n",
       "</style>\n",
       "<table border=\"1\" class=\"dataframe\">\n",
       "  <thead>\n",
       "    <tr style=\"text-align: right;\">\n",
       "      <th></th>\n",
       "      <th>ITE_ITEM_TITLE</th>\n",
       "      <th>CATEGORY</th>\n",
       "    </tr>\n",
       "  </thead>\n",
       "  <tbody>\n",
       "    <tr>\n",
       "      <th>0</th>\n",
       "      <td>iPhone 8 Plus 128 Gb En Caja Sellada + Templad...</td>\n",
       "      <td>CELLPHONES</td>\n",
       "    </tr>\n",
       "    <tr>\n",
       "      <th>1</th>\n",
       "      <td>Celular Motorola  Z2 Play Power Edition</td>\n",
       "      <td>CELLPHONES</td>\n",
       "    </tr>\n",
       "    <tr>\n",
       "      <th>2</th>\n",
       "      <td>Celular Nextel I355 I355is Anti Explosivo Film...</td>\n",
       "      <td>CELLPHONES</td>\n",
       "    </tr>\n",
       "    <tr>\n",
       "      <th>3</th>\n",
       "      <td>LG  Lote De Celulares Permuto Por Un Smartphone</td>\n",
       "      <td>CELLPHONES</td>\n",
       "    </tr>\n",
       "    <tr>\n",
       "      <th>4</th>\n",
       "      <td>Samsung S6 Edge Libre Ya No Lo Tengo M L Robaron</td>\n",
       "      <td>CELLPHONES</td>\n",
       "    </tr>\n",
       "  </tbody>\n",
       "</table>\n",
       "</div>"
      ],
      "text/plain": [
       "                                      ITE_ITEM_TITLE    CATEGORY\n",
       "0  iPhone 8 Plus 128 Gb En Caja Sellada + Templad...  CELLPHONES\n",
       "1            Celular Motorola  Z2 Play Power Edition  CELLPHONES\n",
       "2  Celular Nextel I355 I355is Anti Explosivo Film...  CELLPHONES\n",
       "3    LG  Lote De Celulares Permuto Por Un Smartphone  CELLPHONES\n",
       "4   Samsung S6 Edge Libre Ya No Lo Tengo M L Robaron  CELLPHONES"
      ]
     },
     "execution_count": 56,
     "metadata": {},
     "output_type": "execute_result"
    }
   ],
   "source": [
    "import pandas as pd\n",
    "\n",
    "def load_random_sample_df(csv_path):\n",
    "    df = pd.read_csv(csv_path)\n",
    "    return df.sample(frac=1).reset_index(drop=True)\n",
    "\n",
    "df = load_random_sample_df(\"all_data.csv\")\n",
    "df.head()\n"
   ]
  },
  {
   "cell_type": "markdown",
   "metadata": {},
   "source": [
    "## Build and Tag a Simple Random Sample"
   ]
  },
  {
   "cell_type": "code",
   "execution_count": 57,
   "metadata": {},
   "outputs": [],
   "source": [
    "import requests\n",
    "import ipywidgets as widgets"
   ]
  },
  {
   "cell_type": "code",
   "execution_count": 58,
   "metadata": {},
   "outputs": [],
   "source": [
    "items_per_class = 10\n",
    "tags = {\"Wrong\":'danger', \"OK\":\"success\", \"Skip\":\"\"}\n",
    "tag_count = {tag:0 for tag in tags.keys()}\n",
    "df['Tag'] = \"\""
   ]
  },
  {
   "cell_type": "code",
   "execution_count": 59,
   "metadata": {},
   "outputs": [
    {
     "name": "stdout",
     "output_type": "stream",
     "text": [
      "Is the following Publication a CELLPHONE?\n"
     ]
    },
    {
     "data": {
      "application/vnd.jupyter.widget-view+json": {
       "model_id": "3ba276e945b2414886556c941f6cc43b",
       "version_major": 2,
       "version_minor": 0
      },
      "text/plain": [
       "Label(value='iPhone 8 Plus 128 Gb En Caja Sellada + Templado ¡ En Oferta!')"
      ]
     },
     "metadata": {},
     "output_type": "display_data"
    },
    {
     "data": {
      "application/vnd.jupyter.widget-view+json": {
       "model_id": "6df07dcbf84c454aab192e5d75f45ac8",
       "version_major": 2,
       "version_minor": 0
      },
      "text/plain": [
       "HBox(children=(Button(button_style='danger', description='Wrong', style=ButtonStyle()), Button(button_style='s…"
      ]
     },
     "metadata": {},
     "output_type": "display_data"
    },
    {
     "data": {
      "application/vnd.jupyter.widget-view+json": {
       "model_id": "d5b47a31cb1141deba927045636d5f3e",
       "version_major": 2,
       "version_minor": 0
      },
      "text/plain": [
       "Output()"
      ]
     },
     "metadata": {},
     "output_type": "display_data"
    },
    {
     "name": "stdout",
     "output_type": "stream",
     "text": [
      "Well Done, we have enough items for the analysis!\n"
     ]
    }
   ],
   "source": [
    "item_index = 0\n",
    "\n",
    "def end_analysis(tag_count):\n",
    "    for key, val in tag_count.items():\n",
    "        if key != \"Skip\" and val < items_per_class:\n",
    "            return False\n",
    "    return True\n",
    "\n",
    "def tag_button_clicked(b):\n",
    "    # Display the message within the output widget.\n",
    "    global item_index\n",
    "    with output:\n",
    "        if b.description != \"Skip\":\n",
    "            df.at[item_index, 'Tag'] = b.description\n",
    "            tag_count[b.description] += 1 \n",
    "\n",
    "    item_index += 1\n",
    "    if end_analysis(tag_count):\n",
    "        print(\"Well Done, we have enough items for the analysis!\")\n",
    "\n",
    "    next_item = df.iloc[item_index]\n",
    "    title_box.value = next_item['ITE_ITEM_TITLE']\n",
    "\n",
    "print(\"Is the following Publication a CELLPHONE?\")\n",
    "item = df.iloc[item_index]\n",
    "title_box = widgets.Label(value=item[\"ITE_ITEM_TITLE\"])\n",
    "display(title_box)\n",
    "output = widgets.Output()\n",
    "\n",
    "tag_buttons=[]\n",
    "for tag in tags.keys():\n",
    "    button = widgets.Button(description=tag, button_style=tags[tag])\n",
    "    button.on_click(tag_button_clicked)\n",
    "    tag_buttons.append(button)\n",
    "display(widgets.HBox(tag_buttons))\n",
    "\n",
    "display(output)"
   ]
  },
  {
   "cell_type": "markdown",
   "metadata": {},
   "source": [
    "## Do the calculations"
   ]
  },
  {
   "cell_type": "code",
   "execution_count": 60,
   "metadata": {},
   "outputs": [
    {
     "name": "stdout",
     "output_type": "stream",
     "text": [
      "Sample size n = 24\n",
      "{\"Wrong\": 10, \"OK\": 14, \"Skip\": 0}\n"
     ]
    },
    {
     "data": {
      "text/html": [
       "<div>\n",
       "<style scoped>\n",
       "    .dataframe tbody tr th:only-of-type {\n",
       "        vertical-align: middle;\n",
       "    }\n",
       "\n",
       "    .dataframe tbody tr th {\n",
       "        vertical-align: top;\n",
       "    }\n",
       "\n",
       "    .dataframe thead th {\n",
       "        text-align: right;\n",
       "    }\n",
       "</style>\n",
       "<table border=\"1\" class=\"dataframe\">\n",
       "  <thead>\n",
       "    <tr style=\"text-align: right;\">\n",
       "      <th></th>\n",
       "      <th>ITE_ITEM_TITLE</th>\n",
       "      <th>CATEGORY</th>\n",
       "      <th>Tag</th>\n",
       "    </tr>\n",
       "  </thead>\n",
       "  <tbody>\n",
       "    <tr>\n",
       "      <th>0</th>\n",
       "      <td>iPhone 8 Plus 128 Gb En Caja Sellada + Templad...</td>\n",
       "      <td>CELLPHONES</td>\n",
       "      <td>OK</td>\n",
       "    </tr>\n",
       "    <tr>\n",
       "      <th>1</th>\n",
       "      <td>Celular Motorola  Z2 Play Power Edition</td>\n",
       "      <td>CELLPHONES</td>\n",
       "      <td>OK</td>\n",
       "    </tr>\n",
       "    <tr>\n",
       "      <th>2</th>\n",
       "      <td>Celular Nextel I355 I355is Anti Explosivo Film...</td>\n",
       "      <td>CELLPHONES</td>\n",
       "      <td>OK</td>\n",
       "    </tr>\n",
       "    <tr>\n",
       "      <th>3</th>\n",
       "      <td>LG  Lote De Celulares Permuto Por Un Smartphone</td>\n",
       "      <td>CELLPHONES</td>\n",
       "      <td>OK</td>\n",
       "    </tr>\n",
       "    <tr>\n",
       "      <th>4</th>\n",
       "      <td>Samsung S6 Edge Libre Ya No Lo Tengo M L Robaron</td>\n",
       "      <td>CELLPHONES</td>\n",
       "      <td>OK</td>\n",
       "    </tr>\n",
       "  </tbody>\n",
       "</table>\n",
       "</div>"
      ],
      "text/plain": [
       "                                      ITE_ITEM_TITLE    CATEGORY Tag\n",
       "0  iPhone 8 Plus 128 Gb En Caja Sellada + Templad...  CELLPHONES  OK\n",
       "1            Celular Motorola  Z2 Play Power Edition  CELLPHONES  OK\n",
       "2  Celular Nextel I355 I355is Anti Explosivo Film...  CELLPHONES  OK\n",
       "3    LG  Lote De Celulares Permuto Por Un Smartphone  CELLPHONES  OK\n",
       "4   Samsung S6 Edge Libre Ya No Lo Tengo M L Robaron  CELLPHONES  OK"
      ]
     },
     "execution_count": 60,
     "metadata": {},
     "output_type": "execute_result"
    }
   ],
   "source": [
    "import json\n",
    "import statsmodels.api as sm\n",
    "import numpy as np\n",
    "import pandas as pd\n",
    "import scipy.stats.distributions as dist\n",
    "\n",
    "df_analyzed = df[df['Tag'] != ''].copy()\n",
    "n = df_analyzed['Tag'].count()\n",
    "print(f\"Sample size n = { n }\")\n",
    "print(json.dumps(tag_count))\n",
    "\n",
    "df_analyzed.head()"
   ]
  },
  {
   "cell_type": "code",
   "execution_count": 61,
   "metadata": {},
   "outputs": [],
   "source": [
    "# You should customize this code for you p\n",
    "def calculate_best_estimate():\n",
    "    return tag_count[\"Wrong\"] / (tag_count[\"OK\"] + tag_count[\"Wrong\"])"
   ]
  },
  {
   "cell_type": "code",
   "execution_count": 62,
   "metadata": {},
   "outputs": [
    {
     "name": "stdout",
     "output_type": "stream",
     "text": [
      "Best Estimate: 0.4166666666666667\n",
      "z = 2.1530045451481454\n",
      "p_val = 0.031318321330661814\n"
     ]
    }
   ],
   "source": [
    "p_hat = calculate_best_estimate()\n",
    "print(f\"Best Estimate: {p_hat}\")\n",
    "\n",
    "z, p_val = sm.stats.proportions_ztest(p_hat * n, n, p_null, alternative='two-sided')\n",
    "print(f\"z = {z}\")\n",
    "print(f\"p_val = {p_val}\")"
   ]
  },
  {
   "cell_type": "markdown",
   "metadata": {},
   "source": [
    "## Conclusion"
   ]
  },
  {
   "cell_type": "code",
   "execution_count": 64,
   "metadata": {},
   "outputs": [
    {
     "name": "stdout",
     "output_type": "stream",
     "text": [
      "We have enough evidence to conclude that the proportion of wrongly categorized publications is different than 0.2\n"
     ]
    }
   ],
   "source": [
    "if p_val < alpha:\n",
    "    print(f\"We have enough evidence to conclude that the proportion of wrongly categorized publications is different than {p_null}\")"
   ]
  },
  {
   "cell_type": "code",
   "execution_count": null,
   "metadata": {},
   "outputs": [],
   "source": []
  }
 ],
 "metadata": {
  "kernelspec": {
   "display_name": "Python 3",
   "language": "python",
   "name": "python3"
  },
  "language_info": {
   "codemirror_mode": {
    "name": "ipython",
    "version": 3
   },
   "file_extension": ".py",
   "mimetype": "text/x-python",
   "name": "python",
   "nbconvert_exporter": "python",
   "pygments_lexer": "ipython3",
   "version": "3.7.1"
  }
 },
 "nbformat": 4,
 "nbformat_minor": 2
}
